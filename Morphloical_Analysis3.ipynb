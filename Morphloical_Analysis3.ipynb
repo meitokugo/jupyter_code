{
 "cells": [
  {
   "cell_type": "code",
   "execution_count": 1,
   "metadata": {},
   "outputs": [
    {
     "name": "stdout",
     "output_type": "stream",
     "text": [
      "メイ\t名詞,一般,*,*,*,*,*\n",
      "が\t助詞,格助詞,一般,*,*,*,が,ガ,ガ\n",
      "恋\t名詞,一般,*,*,*,*,恋,コイ,コイ\n",
      "ダンス\t名詞,サ変接続,*,*,*,*,ダンス,ダンス,ダンス\n",
      "を\t助詞,格助詞,一般,*,*,*,を,ヲ,ヲ\n",
      "踊っ\t動詞,自立,*,*,五段・ラ行,連用タ接続,踊る,オドッ,オドッ\n",
      "て\t助詞,接続助詞,*,*,*,*,て,テ,テ\n",
      "いる\t動詞,非自立,*,*,一段,基本形,いる,イル,イル\n",
      "。\t記号,句点,*,*,*,*,。,。,。\n",
      "EOS\n",
      "\n"
     ]
    }
   ],
   "source": [
    "import MeCab\n",
    "import unidic\n",
    "\n",
    "# MeCabオブジェクトの生成 --- (*1)\n",
    "tagger = MeCab.Tagger()\n",
    "# 形態素解析 --- (*2)\n",
    "result = tagger.parse(\"メイが恋ダンスを踊っている。\")\n",
    "print(result)\n",
    "\n",
    "#print(me.parse(\"メイが恋ダンスを踊っている。\"))"
   ]
  },
  {
   "cell_type": "code",
   "execution_count": 2,
   "metadata": {},
   "outputs": [
    {
     "name": "stderr",
     "output_type": "stream",
     "text": [
      "'apt' は、内部コマンドまたは外部コマンド、\n",
      "操作可能なプログラムまたはバッチ ファイルとして認識されていません。\n"
     ]
    },
    {
     "name": "stdout",
     "output_type": "stream",
     "text": [
      "Requirement already satisfied: mecab-python3 in d:\\anaconda\\envs\\tf2\\lib\\site-packages (1.0.4)\n"
     ]
    },
    {
     "name": "stderr",
     "output_type": "stream",
     "text": [
      "'apt' は、内部コマンドまたは外部コマンド、\n",
      "操作可能なプログラムまたはバッチ ファイルとして認識されていません。\n",
      "fatal: destination path 'mecab-ipadic-neologd' already exists and is not an empty directory.\n",
      "'mecab-ipadic-neologd' は、内部コマンドまたは外部コマンド、\n",
      "操作可能なプログラムまたはバッチ ファイルとして認識されていません。\n",
      "'ln' は、内部コマンドまたは外部コマンド、\n",
      "操作可能なプログラムまたはバッチ ファイルとして認識されていません。\n"
     ]
    }
   ],
   "source": [
    "# MeCabのインストール\n",
    "!apt install mecab libmecab-dev mecab-ipadic-utf8\n",
    "!pip install mecab-python3\n",
    "\n",
    "# mecab-ipadic-NEologdのインストール\n",
    "!apt install git make curl xz-utils file\n",
    "!git clone --depth 1 https://github.com/neologd/mecab-ipadic-neologd.git\n",
    "!echo yes | mecab-ipadic-neologd/bin/install-mecab-ipadic-neologd -n -a\n",
    "\n",
    "# Ref: https://qiita.com/Fulltea/items/90f6ebe6dcceaf64eaef\n",
    "# Ref: https://qiita.com/SUZUKI_Masaya/items/685000d569452585210c\n",
    "\n",
    "!ln -s /etc/mecabrc /usr/local/etc/mecabrc\n",
    "# Ref: https://qiita.com/Naritoshi/items/8f55d7d5cce9ce414395"
   ]
  },
  {
   "cell_type": "code",
   "execution_count": 3,
   "metadata": {},
   "outputs": [
    {
     "ename": "RuntimeError",
     "evalue": "",
     "output_type": "error",
     "traceback": [
      "\u001b[0;31m---------------------------------------------------------------------------\u001b[0m",
      "\u001b[0;31mRuntimeError\u001b[0m                              Traceback (most recent call last)",
      "\u001b[0;32m<ipython-input-3-ee8f252302f2>\u001b[0m in \u001b[0;36m<module>\u001b[0;34m()\u001b[0m\n\u001b[1;32m      6\u001b[0m                            shell=True).communicate()[0]).decode('utf-8')\n\u001b[1;32m      7\u001b[0m \u001b[0;34m\u001b[0m\u001b[0m\n\u001b[0;32m----> 8\u001b[0;31m \u001b[0mm\u001b[0m\u001b[0;34m=\u001b[0m\u001b[0mMeCab\u001b[0m\u001b[0;34m.\u001b[0m\u001b[0mTagger\u001b[0m\u001b[0;34m(\u001b[0m\u001b[0;34m\"-d {0}\"\u001b[0m\u001b[0;34m.\u001b[0m\u001b[0mformat\u001b[0m\u001b[0;34m(\u001b[0m\u001b[0mpath\u001b[0m\u001b[0;34m)\u001b[0m\u001b[0;34m)\u001b[0m\u001b[0;34m\u001b[0m\u001b[0;34m\u001b[0m\u001b[0m\n\u001b[0m",
      "\u001b[0;32mD:\\Anaconda\\envs\\tf2\\lib\\site-packages\\MeCab.py\u001b[0m in \u001b[0;36m__init__\u001b[0;34m(self, *args)\u001b[0m\n\u001b[1;32m    353\u001b[0m \u001b[0;34m\u001b[0m\u001b[0m\n\u001b[1;32m    354\u001b[0m     \u001b[0;32mdef\u001b[0m \u001b[0m__init__\u001b[0m\u001b[0;34m(\u001b[0m\u001b[0mself\u001b[0m\u001b[0;34m,\u001b[0m \u001b[0;34m*\u001b[0m\u001b[0margs\u001b[0m\u001b[0;34m)\u001b[0m\u001b[0;34m:\u001b[0m\u001b[0;34m\u001b[0m\u001b[0;34m\u001b[0m\u001b[0m\n\u001b[0;32m--> 355\u001b[0;31m         \u001b[0m_MeCab\u001b[0m\u001b[0;34m.\u001b[0m\u001b[0mTagger_swiginit\u001b[0m\u001b[0;34m(\u001b[0m\u001b[0mself\u001b[0m\u001b[0;34m,\u001b[0m \u001b[0m_MeCab\u001b[0m\u001b[0;34m.\u001b[0m\u001b[0mnew_Tagger\u001b[0m\u001b[0;34m(\u001b[0m\u001b[0;34m*\u001b[0m\u001b[0margs\u001b[0m\u001b[0;34m)\u001b[0m\u001b[0;34m)\u001b[0m\u001b[0;34m\u001b[0m\u001b[0;34m\u001b[0m\u001b[0m\n\u001b[0m\u001b[1;32m    356\u001b[0m \u001b[0;34m\u001b[0m\u001b[0m\n\u001b[1;32m    357\u001b[0m     \u001b[0;32mdef\u001b[0m \u001b[0mparseToString\u001b[0m\u001b[0;34m(\u001b[0m\u001b[0mself\u001b[0m\u001b[0;34m,\u001b[0m \u001b[0mstr\u001b[0m\u001b[0;34m,\u001b[0m \u001b[0mlength\u001b[0m\u001b[0;34m=\u001b[0m\u001b[0;36m0\u001b[0m\u001b[0;34m)\u001b[0m\u001b[0;34m:\u001b[0m\u001b[0;34m\u001b[0m\u001b[0;34m\u001b[0m\u001b[0m\n",
      "\u001b[0;31mRuntimeError\u001b[0m: "
     ]
    }
   ],
   "source": [
    "import MeCab\n",
    "import subprocess\n",
    "\n",
    "cmd='echo `mecab-config --dicdir`\"/mecab-ipadic-neologd\"'\n",
    "path = (subprocess.Popen(cmd, stdout=subprocess.PIPE,\n",
    "                           shell=True).communicate()[0]).decode('utf-8')\n",
    "                          \n",
    "m=MeCab.Tagger(\"-d {0}\".format(path))"
   ]
  },
  {
   "cell_type": "code",
   "execution_count": null,
   "metadata": {},
   "outputs": [],
   "source": [
    "# 以下の出力が一致していれば、NEologd を使えている\n",
    "\n",
    "print(m.parse(\"彼女はペンパイナッポーアッポーペンと恋ダンスを踊った。\"))\n",
    "\n"
   ]
  },
  {
   "cell_type": "code",
   "execution_count": 4,
   "metadata": {},
   "outputs": [
    {
     "name": "stdout",
     "output_type": "stream",
     "text": [
      "メイ\t名詞,一般,*,*,*,*,*\n",
      "が\t助詞,格助詞,一般,*,*,*,が,ガ,ガ\n",
      "恋\t名詞,一般,*,*,*,*,恋,コイ,コイ\n",
      "ダンス\t名詞,サ変接続,*,*,*,*,ダンス,ダンス,ダンス\n",
      "を\t助詞,格助詞,一般,*,*,*,を,ヲ,ヲ\n",
      "踊っ\t動詞,自立,*,*,五段・ラ行,連用タ接続,踊る,オドッ,オドッ\n",
      "て\t助詞,接続助詞,*,*,*,*,て,テ,テ\n",
      "いる\t動詞,非自立,*,*,一段,基本形,いる,イル,イル\n",
      "。\t記号,句点,*,*,*,*,。,。,。\n",
      "EOS\n",
      "\n"
     ]
    }
   ],
   "source": [
    "import MeCab\n",
    "# MeCabオブジェクトの生成 --- (*1)\n",
    "tagger = MeCab.Tagger()\n",
    "# 形態素解析 --- (*2)\n",
    "result = tagger.parse(\"メイが恋ダンスを踊っている。\")\n",
    "print(result)"
   ]
  },
  {
   "cell_type": "code",
   "execution_count": 5,
   "metadata": {},
   "outputs": [
    {
     "name": "stdout",
     "output_type": "stream",
     "text": [
      "['メイ', '恋', 'ダンス', '踊る', 'いる']\n"
     ]
    }
   ],
   "source": [
    "import MeCab\n",
    "tagger = MeCab.Tagger()\n",
    "tagger.parse(\"\") \n",
    "# 形態素解析結果をリストで取得 --- (*1)\n",
    "node = tagger.parseToNode(\"メイが恋ダンスを踊っている。\")\n",
    "\n",
    "result = []\n",
    "while node is not None:\n",
    "    # 品詞情報取得 --- (*2)\n",
    "    hinshi = node.feature.split(\",\")[0]\n",
    "    if  hinshi in [\"名詞\"]:\n",
    "        # 表層形の取得 --- (*3)\n",
    "        result.append(node.surface)\n",
    "    elif hinshi in [\"動詞\", \"形容詞\"]:\n",
    "        # 形態素情報から原形情報を取得 --- (*4)\n",
    "        result.append(node.feature.split(\",\")[6])\n",
    "    node = node.next\n",
    "    \n",
    "print(result)"
   ]
  },
  {
   "cell_type": "code",
   "execution_count": 6,
   "metadata": {},
   "outputs": [
    {
     "ename": "RuntimeError",
     "evalue": "",
     "output_type": "error",
     "traceback": [
      "\u001b[0;31m---------------------------------------------------------------------------\u001b[0m",
      "\u001b[0;31mRuntimeError\u001b[0m                              Traceback (most recent call last)",
      "\u001b[0;32m<ipython-input-6-c711556a42f1>\u001b[0m in \u001b[0;36m<module>\u001b[0;34m()\u001b[0m\n\u001b[1;32m      1\u001b[0m \u001b[0;32mimport\u001b[0m \u001b[0mMeCab\u001b[0m\u001b[0;34m\u001b[0m\u001b[0;34m\u001b[0m\u001b[0m\n\u001b[1;32m      2\u001b[0m \u001b[0;34m\u001b[0m\u001b[0m\n\u001b[0;32m----> 3\u001b[0;31m \u001b[0mtagger\u001b[0m \u001b[0;34m=\u001b[0m \u001b[0mMeCab\u001b[0m\u001b[0;34m.\u001b[0m\u001b[0mTagger\u001b[0m\u001b[0;34m(\u001b[0m\u001b[0;34mr'-Owakati -d C:\\neologd'\u001b[0m\u001b[0;34m)\u001b[0m\u001b[0;34m\u001b[0m\u001b[0;34m\u001b[0m\u001b[0m\n\u001b[0m\u001b[1;32m      4\u001b[0m \u001b[0msample\u001b[0m \u001b[0;34m=\u001b[0m \u001b[0;34m\"8月3日に放送された「中居正広の金曜日のスマイルたちへ」\"\u001b[0m\u001b[0;34m\u001b[0m\u001b[0;34m\u001b[0m\u001b[0m\n\u001b[1;32m      5\u001b[0m \u001b[0mtagger\u001b[0m\u001b[0;34m.\u001b[0m\u001b[0mparse\u001b[0m\u001b[0;34m(\u001b[0m\u001b[0msample\u001b[0m\u001b[0;34m)\u001b[0m\u001b[0;34m\u001b[0m\u001b[0;34m\u001b[0m\u001b[0m\n",
      "\u001b[0;32mD:\\Anaconda\\envs\\tf2\\lib\\site-packages\\MeCab.py\u001b[0m in \u001b[0;36m__init__\u001b[0;34m(self, *args)\u001b[0m\n\u001b[1;32m    353\u001b[0m \u001b[0;34m\u001b[0m\u001b[0m\n\u001b[1;32m    354\u001b[0m     \u001b[0;32mdef\u001b[0m \u001b[0m__init__\u001b[0m\u001b[0;34m(\u001b[0m\u001b[0mself\u001b[0m\u001b[0;34m,\u001b[0m \u001b[0;34m*\u001b[0m\u001b[0margs\u001b[0m\u001b[0;34m)\u001b[0m\u001b[0;34m:\u001b[0m\u001b[0;34m\u001b[0m\u001b[0;34m\u001b[0m\u001b[0m\n\u001b[0;32m--> 355\u001b[0;31m         \u001b[0m_MeCab\u001b[0m\u001b[0;34m.\u001b[0m\u001b[0mTagger_swiginit\u001b[0m\u001b[0;34m(\u001b[0m\u001b[0mself\u001b[0m\u001b[0;34m,\u001b[0m \u001b[0m_MeCab\u001b[0m\u001b[0;34m.\u001b[0m\u001b[0mnew_Tagger\u001b[0m\u001b[0;34m(\u001b[0m\u001b[0;34m*\u001b[0m\u001b[0margs\u001b[0m\u001b[0;34m)\u001b[0m\u001b[0;34m)\u001b[0m\u001b[0;34m\u001b[0m\u001b[0;34m\u001b[0m\u001b[0m\n\u001b[0m\u001b[1;32m    356\u001b[0m \u001b[0;34m\u001b[0m\u001b[0m\n\u001b[1;32m    357\u001b[0m     \u001b[0;32mdef\u001b[0m \u001b[0mparseToString\u001b[0m\u001b[0;34m(\u001b[0m\u001b[0mself\u001b[0m\u001b[0;34m,\u001b[0m \u001b[0mstr\u001b[0m\u001b[0;34m,\u001b[0m \u001b[0mlength\u001b[0m\u001b[0;34m=\u001b[0m\u001b[0;36m0\u001b[0m\u001b[0;34m)\u001b[0m\u001b[0;34m:\u001b[0m\u001b[0;34m\u001b[0m\u001b[0;34m\u001b[0m\u001b[0m\n",
      "\u001b[0;31mRuntimeError\u001b[0m: "
     ]
    }
   ],
   "source": [
    "import MeCab\n",
    "\n",
    "tagger = MeCab.Tagger(r'-Owakati -d C:\\neologd')\n",
    "sample = \"8月3日に放送された「中居正広の金曜日のスマイルたちへ」\"\n",
    "tagger.parse(sample)\n",
    "# '8月3日 に 放送 さ れ た 「 中居正広の金曜日のスマイルたちへ 」 \\n'"
   ]
  },
  {
   "cell_type": "code",
   "execution_count": 9,
   "metadata": {},
   "outputs": [
    {
     "name": "stdout",
     "output_type": "stream",
     "text": [
      "['メイ', '恋', 'ダンス', '踊る', 'いる']\n"
     ]
    }
   ],
   "source": [
    "import MeCab\n",
    "tagger = MeCab.Tagger()\n",
    "tagger.parse(\"\") \n",
    "# 形態素解析結果をリストで取得 --- (*1)\n",
    "node = tagger.parseToNode(\"メイが恋ダンスを踊っている。\")\n",
    "\n",
    "result = []\n",
    "while node is not None:\n",
    "    # 品詞情報取得 --- (*2)\n",
    "    hinshi = node.feature.split(\",\")[0]\n",
    "    if  hinshi in [\"名詞\"]:\n",
    "        # 表層形の取得 --- (*3)\n",
    "        result.append(node.surface)\n",
    "    elif hinshi in [\"動詞\", \"形容詞\"]:\n",
    "        # 形態素情報から原形情報を取得 --- (*4)\n",
    "        result.append(node.feature.split(\",\")[6])\n",
    "    node = node.next\n",
    "    \n",
    "print(result)"
   ]
  },
  {
   "cell_type": "code",
   "execution_count": null,
   "metadata": {},
   "outputs": [],
   "source": []
  }
 ],
 "metadata": {
  "kernelspec": {
   "display_name": "Python [conda env:tf2] *",
   "language": "python",
   "name": "conda-env-tf2-py"
  },
  "language_info": {
   "codemirror_mode": {
    "name": "ipython",
    "version": 3
   },
   "file_extension": ".py",
   "mimetype": "text/x-python",
   "name": "python",
   "nbconvert_exporter": "python",
   "pygments_lexer": "ipython3",
   "version": "3.7.9"
  }
 },
 "nbformat": 4,
 "nbformat_minor": 4
}
