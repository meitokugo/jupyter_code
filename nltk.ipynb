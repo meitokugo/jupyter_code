{
 "cells": [
  {
   "cell_type": "code",
   "execution_count": 2,
   "metadata": {},
   "outputs": [
    {
     "name": "stdout",
     "output_type": "stream",
     "text": [
      "123\n"
     ]
    }
   ],
   "source": [
    "import nltk\n",
    "from nltk.corpus.reader import *\n",
    "from nltk.corpus.reader.util import *\n",
    "from nltk.text import Text\n",
    "\n",
    "print(123)"
   ]
  },
  {
   "cell_type": "code",
   "execution_count": 11,
   "metadata": {},
   "outputs": [
    {
     "name": "stdout",
     "output_type": "stream",
     "text": [
      "こんにちは\n",
      "パイソン で 自然言語処理 \n"
     ]
    }
   ],
   "source": [
    "# -*- coding: utf-8 -*-\n",
    "#sys.stdout = codecs.getwriter('utf_8')(sys.stdout)\n",
    "#sys.stdin = codecs.getreader('utf_8')(sys.stdin)\n",
    "\n",
    "\n",
    "print(\"こんにちは\")\n",
    "print (\"%s で %s \" % (u\"パイソン\", u\"自然言語処理\"))\n",
    "\n",
    "import re, pprint\n",
    "def pp(obj):\n",
    "    pp = pprint.PrettyPrinter(indent=4, width=160)\n",
    "    str = pp.pformat(obj)\n",
    "    return re.sub(r\"\\\\u([0-9a-f]{4})\", lambda x: unichr(int(\"0x\"+x.group(1),\n",
    "                                                           16)), str)\n",
    "\n",
    "data = {\n",
    "    u\"スクリプト言語\":\n",
    "        {u\"Perl\": u\"パール\",\n",
    "         u\"Python\": u\"パイソン\",\n",
    "         u\"Ruby\": u\"ルビー\"},\n",
    "    u\"関数型言語\":\n",
    "        {u\"Erlang\": u\"アーラング\",\n",
    "         u\"Haskell\": u\"ハスケル\",\n",
    "         u\"Lisp\": u\"リスプ\"}\n",
    "        }\n"
   ]
  },
  {
   "cell_type": "code",
   "execution_count": 7,
   "metadata": {},
   "outputs": [],
   "source": [
    "data1 = {1,2,3,4,5}"
   ]
  },
  {
   "cell_type": "code",
   "execution_count": 12,
   "metadata": {},
   "outputs": [
    {
     "name": "stdout",
     "output_type": "stream",
     "text": [
      "{'スクリプト言語': {'Perl': 'パール', 'Python': 'パイソン', 'Ruby': 'ルビー'}, '関数型言語': {'Erlang': 'アーラング', 'Haskell': 'ハスケル', 'Lisp': 'リスプ'}}\n"
     ]
    }
   ],
   "source": [
    "print (data)"
   ]
  },
  {
   "cell_type": "code",
   "execution_count": null,
   "metadata": {},
   "outputs": [],
   "source": [
    "jp_chartype_tokenizer = nltk.RegexpTokenizer(u'([ぁ-んー]+|[ァ-ンー]+|[\\u4e00-\\\n",
    "... \\u9FFF]+|[^ぁ-んァ-ンー\\u4e00-\\u9FFF]+)')"
   ]
  }
 ],
 "metadata": {
  "kernelspec": {
   "display_name": "Python [conda env:tf2] *",
   "language": "python",
   "name": "conda-env-tf2-py"
  },
  "language_info": {
   "codemirror_mode": {
    "name": "ipython",
    "version": 3
   },
   "file_extension": ".py",
   "mimetype": "text/x-python",
   "name": "python",
   "nbconvert_exporter": "python",
   "pygments_lexer": "ipython3",
   "version": "3.7.9"
  }
 },
 "nbformat": 4,
 "nbformat_minor": 4
}
